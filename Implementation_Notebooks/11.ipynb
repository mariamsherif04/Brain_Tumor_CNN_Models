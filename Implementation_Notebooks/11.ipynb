{
 "cells": [
  {
   "cell_type": "markdown",
   "id": "6b7849d7",
   "metadata": {},
   "source": [
    "## **Model 11: Medium CNN (Model 5) with LeakyReLU + Adam and only vary the batch size**"
   ]
  },
  {
   "cell_type": "markdown",
   "id": "83b606f1",
   "metadata": {},
   "source": [
    "**Preprocessing from model 2**"
   ]
  },
  {
   "cell_type": "code",
   "execution_count": 3,
   "id": "2c314098",
   "metadata": {},
   "outputs": [],
   "source": [
    "import tensorflow as tf\n",
    "from tensorflow.keras import layers, models\n",
    "from tensorflow.keras.callbacks import EarlyStopping, ModelCheckpoint, ReduceLROnPlateau\n",
    "\n",
    "IMG_SIZE = (128, 128)\n",
    "SEED = 42\n",
    "train_dir = \"datasets/Training\"\n",
    "test_dir  = \"datasets/Testing\"\n",
    "\n",
    "# Function to create datasets with specified batch size\n",
    "def load_datasets(batch_size):\n",
    "    train_ds = tf.keras.preprocessing.image_dataset_from_directory(\n",
    "        train_dir, labels=\"inferred\", label_mode=\"int\",\n",
    "        image_size=IMG_SIZE, batch_size=batch_size,\n",
    "        shuffle=True, seed=SEED\n",
    "    )\n",
    "    test_ds = tf.keras.preprocessing.image_dataset_from_directory(\n",
    "        test_dir, labels=\"inferred\", label_mode=\"int\",\n",
    "        image_size=IMG_SIZE, batch_size=batch_size,\n",
    "        shuffle=False\n",
    "    )\n",
    "    # Validation split\n",
    "    val_size = int(0.2 * len(train_ds))\n",
    "    val_ds = train_ds.take(val_size)\n",
    "    train_ds = train_ds.skip(val_size)\n",
    "\n",
    "    # Normalize\n",
    "    normalization_layer = layers.Rescaling(1./255)\n",
    "    train_ds = train_ds.map(lambda x,y: (normalization_layer(x), y))\n",
    "    val_ds   = val_ds.map(lambda x,y: (normalization_layer(x), y))\n",
    "    test_ds  = test_ds.map(lambda x,y: (normalization_layer(x), y))\n",
    "\n",
    "    # Prefetch\n",
    "    AUTOTUNE = tf.data.AUTOTUNE\n",
    "    train_ds = train_ds.cache().prefetch(AUTOTUNE)\n",
    "    val_ds   = val_ds.cache().prefetch(AUTOTUNE)\n",
    "    test_ds  = test_ds.cache().prefetch(AUTOTUNE)\n",
    "    \n",
    "    return train_ds, val_ds, test_ds"
   ]
  },
  {
   "cell_type": "markdown",
   "id": "89bb1f59",
   "metadata": {},
   "source": [
    "**With Leaky ReLU**\n",
    "> Architecture\n",
    "- Conv2D(32) → LeakyReLU → MaxPool\n",
    "- Conv2D(64) → LeakyReLU → MaxPool\n",
    "- Conv2D(128) → LeakyReLU → MaxPool\n",
    "- Flatten → Dense(128, LeakyReLU) → Dense(4, softmax)"
   ]
  },
  {
   "cell_type": "code",
   "execution_count": 2,
   "id": "b2128fdc",
   "metadata": {},
   "outputs": [],
   "source": [
    "def build_medium_cnn_leakyrelu(input_shape=(128,128,3), num_classes=4):\n",
    "    model = models.Sequential([\n",
    "        layers.Conv2D(32, (3,3), padding='same', input_shape=input_shape),\n",
    "        layers.LeakyReLU(alpha=0.1),\n",
    "        layers.MaxPooling2D((2,2)),\n",
    "\n",
    "        layers.Conv2D(64, (3,3), padding='same'),\n",
    "        layers.LeakyReLU(alpha=0.1),\n",
    "        layers.MaxPooling2D((2,2)),\n",
    "\n",
    "        layers.Conv2D(128, (3,3), padding='same'),\n",
    "        layers.LeakyReLU(alpha=0.1),\n",
    "        layers.MaxPooling2D((2,2)),\n",
    "\n",
    "        layers.Flatten(),\n",
    "        layers.Dense(128),\n",
    "        layers.LeakyReLU(alpha=0.1),\n",
    "        layers.Dense(num_classes, activation='softmax')\n",
    "    ])\n",
    "    return model"
   ]
  },
  {
   "cell_type": "markdown",
   "id": "669c1367",
   "metadata": {},
   "source": [
    "**Callbacks**"
   ]
  },
  {
   "cell_type": "code",
   "execution_count": 3,
   "id": "e692c7d1",
   "metadata": {},
   "outputs": [],
   "source": [
    "callbacks = [\n",
    "    EarlyStopping(monitor='val_loss', patience=5, min_delta=1e-3, restore_best_weights=True, verbose=1),\n",
    "    ModelCheckpoint(filepath='models/model11_best.h5', monitor='val_loss', save_best_only=True, verbose=1),\n",
    "    ReduceLROnPlateau(monitor='val_loss', factor=0.5, patience=3, min_lr=1e-6, verbose=1)\n",
    "]"
   ]
  },
  {
   "cell_type": "markdown",
   "id": "91c94a4a",
   "metadata": {},
   "source": [
    "**Train Variants**"
   ]
  },
  {
   "cell_type": "code",
   "execution_count": 4,
   "id": "43872282",
   "metadata": {},
   "outputs": [
    {
     "name": "stdout",
     "output_type": "stream",
     "text": [
      "\n",
      "Training Model 11 with batch size = 16\n",
      "Found 5712 files belonging to 4 classes.\n",
      "Found 1311 files belonging to 4 classes.\n",
      "Epoch 1/50\n"
     ]
    },
    {
     "name": "stderr",
     "output_type": "stream",
     "text": [
      "d:\\Python11\\Lib\\site-packages\\keras\\src\\layers\\convolutional\\base_conv.py:113: UserWarning: Do not pass an `input_shape`/`input_dim` argument to a layer. When using Sequential models, prefer using an `Input(shape)` object as the first layer in the model instead.\n",
      "  super().__init__(activity_regularizer=activity_regularizer, **kwargs)\n",
      "d:\\Python11\\Lib\\site-packages\\keras\\src\\layers\\activations\\leaky_relu.py:41: UserWarning: Argument `alpha` is deprecated. Use `negative_slope` instead.\n",
      "  warnings.warn(\n"
     ]
    },
    {
     "name": "stdout",
     "output_type": "stream",
     "text": [
      "\u001b[1m286/286\u001b[0m \u001b[32m━━━━━━━━━━━━━━━━━━━━\u001b[0m\u001b[37m\u001b[0m \u001b[1m0s\u001b[0m 132ms/step - accuracy: 0.6553 - loss: 0.8225\n",
      "Epoch 1: val_loss improved from None to 0.37479, saving model to models/model11_best.h5\n"
     ]
    },
    {
     "name": "stderr",
     "output_type": "stream",
     "text": [
      "WARNING:absl:You are saving your model as an HDF5 file via `model.save()` or `keras.saving.save_model(model)`. This file format is considered legacy. We recommend using instead the native Keras format, e.g. `model.save('my_model.keras')` or `keras.saving.save_model(model, 'my_model.keras')`. \n"
     ]
    },
    {
     "name": "stdout",
     "output_type": "stream",
     "text": [
      "\u001b[1m286/286\u001b[0m \u001b[32m━━━━━━━━━━━━━━━━━━━━\u001b[0m\u001b[37m\u001b[0m \u001b[1m43s\u001b[0m 142ms/step - accuracy: 0.7489 - loss: 0.6146 - val_accuracy: 0.8574 - val_loss: 0.3748 - learning_rate: 0.0010\n",
      "Epoch 2/50\n",
      "\u001b[1m286/286\u001b[0m \u001b[32m━━━━━━━━━━━━━━━━━━━━\u001b[0m\u001b[37m\u001b[0m \u001b[1m0s\u001b[0m 130ms/step - accuracy: 0.8583 - loss: 0.3662\n",
      "Epoch 2: val_loss improved from 0.37479 to 0.31147, saving model to models/model11_best.h5\n"
     ]
    },
    {
     "name": "stderr",
     "output_type": "stream",
     "text": [
      "WARNING:absl:You are saving your model as an HDF5 file via `model.save()` or `keras.saving.save_model(model)`. This file format is considered legacy. We recommend using instead the native Keras format, e.g. `model.save('my_model.keras')` or `keras.saving.save_model(model, 'my_model.keras')`. \n"
     ]
    },
    {
     "name": "stdout",
     "output_type": "stream",
     "text": [
      "\u001b[1m286/286\u001b[0m \u001b[32m━━━━━━━━━━━━━━━━━━━━\u001b[0m\u001b[37m\u001b[0m \u001b[1m40s\u001b[0m 138ms/step - accuracy: 0.8767 - loss: 0.3267 - val_accuracy: 0.8768 - val_loss: 0.3115 - learning_rate: 0.0010\n",
      "Epoch 3/50\n",
      "\u001b[1m286/286\u001b[0m \u001b[32m━━━━━━━━━━━━━━━━━━━━\u001b[0m\u001b[37m\u001b[0m \u001b[1m0s\u001b[0m 130ms/step - accuracy: 0.9202 - loss: 0.2096\n",
      "Epoch 3: val_loss improved from 0.31147 to 0.21886, saving model to models/model11_best.h5\n"
     ]
    },
    {
     "name": "stderr",
     "output_type": "stream",
     "text": [
      "WARNING:absl:You are saving your model as an HDF5 file via `model.save()` or `keras.saving.save_model(model)`. This file format is considered legacy. We recommend using instead the native Keras format, e.g. `model.save('my_model.keras')` or `keras.saving.save_model(model, 'my_model.keras')`. \n"
     ]
    },
    {
     "name": "stdout",
     "output_type": "stream",
     "text": [
      "\u001b[1m286/286\u001b[0m \u001b[32m━━━━━━━━━━━━━━━━━━━━\u001b[0m\u001b[37m\u001b[0m \u001b[1m40s\u001b[0m 138ms/step - accuracy: 0.9327 - loss: 0.1863 - val_accuracy: 0.9058 - val_loss: 0.2189 - learning_rate: 0.0010\n",
      "Epoch 4/50\n",
      "\u001b[1m286/286\u001b[0m \u001b[32m━━━━━━━━━━━━━━━━━━━━\u001b[0m\u001b[37m\u001b[0m \u001b[1m0s\u001b[0m 129ms/step - accuracy: 0.9633 - loss: 0.1040\n",
      "Epoch 4: val_loss did not improve from 0.21886\n",
      "\u001b[1m286/286\u001b[0m \u001b[32m━━━━━━━━━━━━━━━━━━━━\u001b[0m\u001b[37m\u001b[0m \u001b[1m39s\u001b[0m 137ms/step - accuracy: 0.9672 - loss: 0.0957 - val_accuracy: 0.9155 - val_loss: 0.2430 - learning_rate: 0.0010\n",
      "Epoch 5/50\n",
      "\u001b[1m286/286\u001b[0m \u001b[32m━━━━━━━━━━━━━━━━━━━━\u001b[0m\u001b[37m\u001b[0m \u001b[1m0s\u001b[0m 129ms/step - accuracy: 0.9775 - loss: 0.0684\n",
      "Epoch 5: val_loss did not improve from 0.21886\n",
      "\u001b[1m286/286\u001b[0m \u001b[32m━━━━━━━━━━━━━━━━━━━━\u001b[0m\u001b[37m\u001b[0m \u001b[1m39s\u001b[0m 137ms/step - accuracy: 0.9731 - loss: 0.0754 - val_accuracy: 0.9023 - val_loss: 0.3737 - learning_rate: 0.0010\n",
      "Epoch 6/50\n",
      "\u001b[1m286/286\u001b[0m \u001b[32m━━━━━━━━━━━━━━━━━━━━\u001b[0m\u001b[37m\u001b[0m \u001b[1m0s\u001b[0m 130ms/step - accuracy: 0.9713 - loss: 0.0764\n",
      "Epoch 6: val_loss did not improve from 0.21886\n",
      "\n",
      "Epoch 6: ReduceLROnPlateau reducing learning rate to 0.0005000000237487257.\n",
      "\u001b[1m286/286\u001b[0m \u001b[32m━━━━━━━━━━━━━━━━━━━━\u001b[0m\u001b[37m\u001b[0m \u001b[1m39s\u001b[0m 138ms/step - accuracy: 0.9757 - loss: 0.0634 - val_accuracy: 0.9331 - val_loss: 0.2291 - learning_rate: 0.0010\n",
      "Epoch 7/50\n",
      "\u001b[1m286/286\u001b[0m \u001b[32m━━━━━━━━━━━━━━━━━━━━\u001b[0m\u001b[37m\u001b[0m \u001b[1m0s\u001b[0m 130ms/step - accuracy: 0.9927 - loss: 0.0251\n",
      "Epoch 7: val_loss did not improve from 0.21886\n",
      "\u001b[1m286/286\u001b[0m \u001b[32m━━━━━━━━━━━━━━━━━━━━\u001b[0m\u001b[37m\u001b[0m \u001b[1m40s\u001b[0m 138ms/step - accuracy: 0.9952 - loss: 0.0173 - val_accuracy: 0.9357 - val_loss: 0.2597 - learning_rate: 5.0000e-04\n",
      "Epoch 8/50\n",
      "\u001b[1m286/286\u001b[0m \u001b[32m━━━━━━━━━━━━━━━━━━━━\u001b[0m\u001b[37m\u001b[0m \u001b[1m0s\u001b[0m 130ms/step - accuracy: 0.9979 - loss: 0.0072\n",
      "Epoch 8: val_loss improved from 0.21886 to 0.20932, saving model to models/model11_best.h5\n"
     ]
    },
    {
     "name": "stderr",
     "output_type": "stream",
     "text": [
      "WARNING:absl:You are saving your model as an HDF5 file via `model.save()` or `keras.saving.save_model(model)`. This file format is considered legacy. We recommend using instead the native Keras format, e.g. `model.save('my_model.keras')` or `keras.saving.save_model(model, 'my_model.keras')`. \n"
     ]
    },
    {
     "name": "stdout",
     "output_type": "stream",
     "text": [
      "\u001b[1m286/286\u001b[0m \u001b[32m━━━━━━━━━━━━━━━━━━━━\u001b[0m\u001b[37m\u001b[0m \u001b[1m40s\u001b[0m 139ms/step - accuracy: 0.9996 - loss: 0.0034 - val_accuracy: 0.9525 - val_loss: 0.2093 - learning_rate: 5.0000e-04\n",
      "Epoch 9/50\n",
      "\u001b[1m286/286\u001b[0m \u001b[32m━━━━━━━━━━━━━━━━━━━━\u001b[0m\u001b[37m\u001b[0m \u001b[1m0s\u001b[0m 129ms/step - accuracy: 1.0000 - loss: 0.0011\n",
      "Epoch 9: val_loss did not improve from 0.20932\n",
      "\u001b[1m286/286\u001b[0m \u001b[32m━━━━━━━━━━━━━━━━━━━━\u001b[0m\u001b[37m\u001b[0m \u001b[1m39s\u001b[0m 137ms/step - accuracy: 1.0000 - loss: 7.6768e-04 - val_accuracy: 0.9533 - val_loss: 0.2198 - learning_rate: 5.0000e-04\n",
      "Epoch 10/50\n",
      "\u001b[1m286/286\u001b[0m \u001b[32m━━━━━━━━━━━━━━━━━━━━\u001b[0m\u001b[37m\u001b[0m \u001b[1m0s\u001b[0m 130ms/step - accuracy: 1.0000 - loss: 4.1266e-04\n",
      "Epoch 10: val_loss did not improve from 0.20932\n",
      "\u001b[1m286/286\u001b[0m \u001b[32m━━━━━━━━━━━━━━━━━━━━\u001b[0m\u001b[37m\u001b[0m \u001b[1m40s\u001b[0m 138ms/step - accuracy: 1.0000 - loss: 3.3364e-04 - val_accuracy: 0.9525 - val_loss: 0.2299 - learning_rate: 5.0000e-04\n",
      "Epoch 11/50\n",
      "\u001b[1m286/286\u001b[0m \u001b[32m━━━━━━━━━━━━━━━━━━━━\u001b[0m\u001b[37m\u001b[0m \u001b[1m0s\u001b[0m 133ms/step - accuracy: 1.0000 - loss: 2.4971e-04\n",
      "Epoch 11: val_loss did not improve from 0.20932\n",
      "\n",
      "Epoch 11: ReduceLROnPlateau reducing learning rate to 0.0002500000118743628.\n",
      "\u001b[1m286/286\u001b[0m \u001b[32m━━━━━━━━━━━━━━━━━━━━\u001b[0m\u001b[37m\u001b[0m \u001b[1m40s\u001b[0m 141ms/step - accuracy: 1.0000 - loss: 2.0815e-04 - val_accuracy: 0.9507 - val_loss: 0.2389 - learning_rate: 5.0000e-04\n",
      "Epoch 12/50\n",
      "\u001b[1m286/286\u001b[0m \u001b[32m━━━━━━━━━━━━━━━━━━━━\u001b[0m\u001b[37m\u001b[0m \u001b[1m0s\u001b[0m 134ms/step - accuracy: 1.0000 - loss: 1.8053e-04\n",
      "Epoch 12: val_loss did not improve from 0.20932\n",
      "\u001b[1m286/286\u001b[0m \u001b[32m━━━━━━━━━━━━━━━━━━━━\u001b[0m\u001b[37m\u001b[0m \u001b[1m41s\u001b[0m 142ms/step - accuracy: 1.0000 - loss: 1.5467e-04 - val_accuracy: 0.9507 - val_loss: 0.2437 - learning_rate: 2.5000e-04\n",
      "Epoch 13/50\n",
      "\u001b[1m286/286\u001b[0m \u001b[32m━━━━━━━━━━━━━━━━━━━━\u001b[0m\u001b[37m\u001b[0m \u001b[1m0s\u001b[0m 134ms/step - accuracy: 1.0000 - loss: 1.5466e-04\n",
      "Epoch 13: val_loss did not improve from 0.20932\n",
      "\u001b[1m286/286\u001b[0m \u001b[32m━━━━━━━━━━━━━━━━━━━━\u001b[0m\u001b[37m\u001b[0m \u001b[1m41s\u001b[0m 142ms/step - accuracy: 1.0000 - loss: 1.3294e-04 - val_accuracy: 0.9507 - val_loss: 0.2480 - learning_rate: 2.5000e-04\n",
      "Epoch 13: early stopping\n",
      "Restoring model weights from the end of the best epoch: 8.\n",
      "\n",
      "Training Model 11 with batch size = 64\n",
      "Found 5712 files belonging to 4 classes.\n",
      "Found 1311 files belonging to 4 classes.\n",
      "Epoch 1/50\n",
      "\u001b[1m72/72\u001b[0m \u001b[32m━━━━━━━━━━━━━━━━━━━━\u001b[0m\u001b[37m\u001b[0m \u001b[1m0s\u001b[0m 473ms/step - accuracy: 0.5332 - loss: 1.1611\n",
      "Epoch 1: val_loss did not improve from 0.20932\n",
      "\u001b[1m72/72\u001b[0m \u001b[32m━━━━━━━━━━━━━━━━━━━━\u001b[0m\u001b[37m\u001b[0m \u001b[1m39s\u001b[0m 513ms/step - accuracy: 0.6805 - loss: 0.7997 - val_accuracy: 0.7934 - val_loss: 0.5758 - learning_rate: 0.0010\n",
      "Epoch 2/50\n",
      "\u001b[1m72/72\u001b[0m \u001b[32m━━━━━━━━━━━━━━━━━━━━\u001b[0m\u001b[37m\u001b[0m \u001b[1m0s\u001b[0m 456ms/step - accuracy: 0.8362 - loss: 0.4382\n",
      "Epoch 2: val_loss did not improve from 0.20932\n",
      "\u001b[1m72/72\u001b[0m \u001b[32m━━━━━━━━━━━━━━━━━━━━\u001b[0m\u001b[37m\u001b[0m \u001b[1m35s\u001b[0m 485ms/step - accuracy: 0.8601 - loss: 0.3767 - val_accuracy: 0.8715 - val_loss: 0.3472 - learning_rate: 0.0010\n",
      "Epoch 3/50\n",
      "\u001b[1m72/72\u001b[0m \u001b[32m━━━━━━━━━━━━━━━━━━━━\u001b[0m\u001b[37m\u001b[0m \u001b[1m0s\u001b[0m 452ms/step - accuracy: 0.8922 - loss: 0.2878\n",
      "Epoch 3: val_loss did not improve from 0.20932\n",
      "\n",
      "Epoch 3: ReduceLROnPlateau reducing learning rate to 0.0005000000237487257.\n",
      "\u001b[1m72/72\u001b[0m \u001b[32m━━━━━━━━━━━━━━━━━━━━\u001b[0m\u001b[37m\u001b[0m \u001b[1m35s\u001b[0m 481ms/step - accuracy: 0.9103 - loss: 0.2530 - val_accuracy: 0.8932 - val_loss: 0.3010 - learning_rate: 0.0010\n",
      "Epoch 4/50\n",
      "\u001b[1m72/72\u001b[0m \u001b[32m━━━━━━━━━━━━━━━━━━━━\u001b[0m\u001b[37m\u001b[0m \u001b[1m0s\u001b[0m 450ms/step - accuracy: 0.9288 - loss: 0.1859\n",
      "Epoch 4: val_loss improved from 0.20932 to 0.19241, saving model to models/model11_best.h5\n"
     ]
    },
    {
     "name": "stderr",
     "output_type": "stream",
     "text": [
      "WARNING:absl:You are saving your model as an HDF5 file via `model.save()` or `keras.saving.save_model(model)`. This file format is considered legacy. We recommend using instead the native Keras format, e.g. `model.save('my_model.keras')` or `keras.saving.save_model(model, 'my_model.keras')`. \n"
     ]
    },
    {
     "name": "stdout",
     "output_type": "stream",
     "text": [
      "\u001b[1m72/72\u001b[0m \u001b[32m━━━━━━━━━━━━━━━━━━━━\u001b[0m\u001b[37m\u001b[0m \u001b[1m35s\u001b[0m 481ms/step - accuracy: 0.9452 - loss: 0.1535 - val_accuracy: 0.9297 - val_loss: 0.1924 - learning_rate: 5.0000e-04\n",
      "Epoch 5/50\n",
      "\u001b[1m72/72\u001b[0m \u001b[32m━━━━━━━━━━━━━━━━━━━━\u001b[0m\u001b[37m\u001b[0m \u001b[1m0s\u001b[0m 448ms/step - accuracy: 0.9575 - loss: 0.1235\n",
      "Epoch 5: val_loss improved from 0.19241 to 0.16998, saving model to models/model11_best.h5\n"
     ]
    },
    {
     "name": "stderr",
     "output_type": "stream",
     "text": [
      "WARNING:absl:You are saving your model as an HDF5 file via `model.save()` or `keras.saving.save_model(model)`. This file format is considered legacy. We recommend using instead the native Keras format, e.g. `model.save('my_model.keras')` or `keras.saving.save_model(model, 'my_model.keras')`. \n"
     ]
    },
    {
     "name": "stdout",
     "output_type": "stream",
     "text": [
      "\u001b[1m72/72\u001b[0m \u001b[32m━━━━━━━━━━━━━━━━━━━━\u001b[0m\u001b[37m\u001b[0m \u001b[1m34s\u001b[0m 479ms/step - accuracy: 0.9671 - loss: 0.1016 - val_accuracy: 0.9401 - val_loss: 0.1700 - learning_rate: 5.0000e-04\n",
      "Epoch 6/50\n",
      "\u001b[1m72/72\u001b[0m \u001b[32m━━━━━━━━━━━━━━━━━━━━\u001b[0m\u001b[37m\u001b[0m \u001b[1m0s\u001b[0m 433ms/step - accuracy: 0.9741 - loss: 0.0797\n",
      "Epoch 6: val_loss improved from 0.16998 to 0.16278, saving model to models/model11_best.h5\n"
     ]
    },
    {
     "name": "stderr",
     "output_type": "stream",
     "text": [
      "WARNING:absl:You are saving your model as an HDF5 file via `model.save()` or `keras.saving.save_model(model)`. This file format is considered legacy. We recommend using instead the native Keras format, e.g. `model.save('my_model.keras')` or `keras.saving.save_model(model, 'my_model.keras')`. \n"
     ]
    },
    {
     "name": "stdout",
     "output_type": "stream",
     "text": [
      "\u001b[1m72/72\u001b[0m \u001b[32m━━━━━━━━━━━━━━━━━━━━\u001b[0m\u001b[37m\u001b[0m \u001b[1m33s\u001b[0m 463ms/step - accuracy: 0.9794 - loss: 0.0664 - val_accuracy: 0.9470 - val_loss: 0.1628 - learning_rate: 5.0000e-04\n",
      "Epoch 7/50\n",
      "\u001b[1m72/72\u001b[0m \u001b[32m━━━━━━━━━━━━━━━━━━━━\u001b[0m\u001b[37m\u001b[0m \u001b[1m0s\u001b[0m 434ms/step - accuracy: 0.9799 - loss: 0.0648\n",
      "Epoch 7: val_loss improved from 0.16278 to 0.16215, saving model to models/model11_best.h5\n"
     ]
    },
    {
     "name": "stderr",
     "output_type": "stream",
     "text": [
      "WARNING:absl:You are saving your model as an HDF5 file via `model.save()` or `keras.saving.save_model(model)`. This file format is considered legacy. We recommend using instead the native Keras format, e.g. `model.save('my_model.keras')` or `keras.saving.save_model(model, 'my_model.keras')`. \n"
     ]
    },
    {
     "name": "stdout",
     "output_type": "stream",
     "text": [
      "\u001b[1m72/72\u001b[0m \u001b[32m━━━━━━━━━━━━━━━━━━━━\u001b[0m\u001b[37m\u001b[0m \u001b[1m33s\u001b[0m 463ms/step - accuracy: 0.9822 - loss: 0.0577 - val_accuracy: 0.9514 - val_loss: 0.1621 - learning_rate: 5.0000e-04\n",
      "Epoch 8/50\n",
      "\u001b[1m72/72\u001b[0m \u001b[32m━━━━━━━━━━━━━━━━━━━━\u001b[0m\u001b[37m\u001b[0m \u001b[1m0s\u001b[0m 431ms/step - accuracy: 0.9719 - loss: 0.0736\n",
      "Epoch 8: val_loss improved from 0.16215 to 0.16035, saving model to models/model11_best.h5\n"
     ]
    },
    {
     "name": "stderr",
     "output_type": "stream",
     "text": [
      "WARNING:absl:You are saving your model as an HDF5 file via `model.save()` or `keras.saving.save_model(model)`. This file format is considered legacy. We recommend using instead the native Keras format, e.g. `model.save('my_model.keras')` or `keras.saving.save_model(model, 'my_model.keras')`. \n"
     ]
    },
    {
     "name": "stdout",
     "output_type": "stream",
     "text": [
      "\u001b[1m72/72\u001b[0m \u001b[32m━━━━━━━━━━━━━━━━━━━━\u001b[0m\u001b[37m\u001b[0m \u001b[1m33s\u001b[0m 462ms/step - accuracy: 0.9752 - loss: 0.0671 - val_accuracy: 0.9479 - val_loss: 0.1604 - learning_rate: 5.0000e-04\n",
      "Epoch 9/50\n",
      "\u001b[1m72/72\u001b[0m \u001b[32m━━━━━━━━━━━━━━━━━━━━\u001b[0m\u001b[37m\u001b[0m \u001b[1m0s\u001b[0m 436ms/step - accuracy: 0.9826 - loss: 0.0467\n",
      "Epoch 9: val_loss did not improve from 0.16035\n",
      "\u001b[1m72/72\u001b[0m \u001b[32m━━━━━━━━━━━━━━━━━━━━\u001b[0m\u001b[37m\u001b[0m \u001b[1m33s\u001b[0m 464ms/step - accuracy: 0.9884 - loss: 0.0340 - val_accuracy: 0.9436 - val_loss: 0.1948 - learning_rate: 5.0000e-04\n",
      "Epoch 10/50\n",
      "\u001b[1m72/72\u001b[0m \u001b[32m━━━━━━━━━━━━━━━━━━━━\u001b[0m\u001b[37m\u001b[0m \u001b[1m0s\u001b[0m 448ms/step - accuracy: 0.9920 - loss: 0.0289\n",
      "Epoch 10: val_loss did not improve from 0.16035\n",
      "\u001b[1m72/72\u001b[0m \u001b[32m━━━━━━━━━━━━━━━━━━━━\u001b[0m\u001b[37m\u001b[0m \u001b[1m34s\u001b[0m 476ms/step - accuracy: 0.9945 - loss: 0.0221 - val_accuracy: 0.9314 - val_loss: 0.2334 - learning_rate: 5.0000e-04\n",
      "Epoch 11/50\n",
      "\u001b[1m72/72\u001b[0m \u001b[32m━━━━━━━━━━━━━━━━━━━━\u001b[0m\u001b[37m\u001b[0m \u001b[1m0s\u001b[0m 450ms/step - accuracy: 0.9899 - loss: 0.0315\n",
      "Epoch 11: val_loss improved from 0.16035 to 0.13158, saving model to models/model11_best.h5\n"
     ]
    },
    {
     "name": "stderr",
     "output_type": "stream",
     "text": [
      "WARNING:absl:You are saving your model as an HDF5 file via `model.save()` or `keras.saving.save_model(model)`. This file format is considered legacy. We recommend using instead the native Keras format, e.g. `model.save('my_model.keras')` or `keras.saving.save_model(model, 'my_model.keras')`. \n"
     ]
    },
    {
     "name": "stdout",
     "output_type": "stream",
     "text": [
      "\u001b[1m72/72\u001b[0m \u001b[32m━━━━━━━━━━━━━━━━━━━━\u001b[0m\u001b[37m\u001b[0m \u001b[1m35s\u001b[0m 481ms/step - accuracy: 0.9932 - loss: 0.0240 - val_accuracy: 0.9644 - val_loss: 0.1316 - learning_rate: 5.0000e-04\n",
      "Epoch 12/50\n",
      "\u001b[1m72/72\u001b[0m \u001b[32m━━━━━━━━━━━━━━━━━━━━\u001b[0m\u001b[37m\u001b[0m \u001b[1m0s\u001b[0m 460ms/step - accuracy: 0.9970 - loss: 0.0100\n",
      "Epoch 12: val_loss did not improve from 0.13158\n",
      "\u001b[1m72/72\u001b[0m \u001b[32m━━━━━━━━━━━━━━━━━━━━\u001b[0m\u001b[37m\u001b[0m \u001b[1m35s\u001b[0m 488ms/step - accuracy: 0.9971 - loss: 0.0100 - val_accuracy: 0.9583 - val_loss: 0.1630 - learning_rate: 5.0000e-04\n",
      "Epoch 13/50\n",
      "\u001b[1m72/72\u001b[0m \u001b[32m━━━━━━━━━━━━━━━━━━━━\u001b[0m\u001b[37m\u001b[0m \u001b[1m0s\u001b[0m 451ms/step - accuracy: 0.9993 - loss: 0.0071\n",
      "Epoch 13: val_loss did not improve from 0.13158\n",
      "\u001b[1m72/72\u001b[0m \u001b[32m━━━━━━━━━━━━━━━━━━━━\u001b[0m\u001b[37m\u001b[0m \u001b[1m35s\u001b[0m 479ms/step - accuracy: 0.9993 - loss: 0.0059 - val_accuracy: 0.9592 - val_loss: 0.1776 - learning_rate: 5.0000e-04\n",
      "Epoch 14/50\n",
      "\u001b[1m72/72\u001b[0m \u001b[32m━━━━━━━━━━━━━━━━━━━━\u001b[0m\u001b[37m\u001b[0m \u001b[1m0s\u001b[0m 454ms/step - accuracy: 0.9995 - loss: 0.0062\n",
      "Epoch 14: val_loss did not improve from 0.13158\n",
      "\n",
      "Epoch 14: ReduceLROnPlateau reducing learning rate to 0.0002500000118743628.\n",
      "\u001b[1m72/72\u001b[0m \u001b[32m━━━━━━━━━━━━━━━━━━━━\u001b[0m\u001b[37m\u001b[0m \u001b[1m35s\u001b[0m 484ms/step - accuracy: 0.9993 - loss: 0.0044 - val_accuracy: 0.9653 - val_loss: 0.1472 - learning_rate: 5.0000e-04\n",
      "Epoch 15/50\n",
      "\u001b[1m72/72\u001b[0m \u001b[32m━━━━━━━━━━━━━━━━━━━━\u001b[0m\u001b[37m\u001b[0m \u001b[1m0s\u001b[0m 453ms/step - accuracy: 1.0000 - loss: 0.0014\n",
      "Epoch 15: val_loss did not improve from 0.13158\n",
      "\u001b[1m72/72\u001b[0m \u001b[32m━━━━━━━━━━━━━━━━━━━━\u001b[0m\u001b[37m\u001b[0m \u001b[1m35s\u001b[0m 482ms/step - accuracy: 1.0000 - loss: 0.0012 - val_accuracy: 0.9679 - val_loss: 0.1404 - learning_rate: 2.5000e-04\n",
      "Epoch 16/50\n",
      "\u001b[1m72/72\u001b[0m \u001b[32m━━━━━━━━━━━━━━━━━━━━\u001b[0m\u001b[37m\u001b[0m \u001b[1m0s\u001b[0m 457ms/step - accuracy: 1.0000 - loss: 9.8975e-04\n",
      "Epoch 16: val_loss did not improve from 0.13158\n",
      "\u001b[1m72/72\u001b[0m \u001b[32m━━━━━━━━━━━━━━━━━━━━\u001b[0m\u001b[37m\u001b[0m \u001b[1m35s\u001b[0m 487ms/step - accuracy: 1.0000 - loss: 8.2503e-04 - val_accuracy: 0.9653 - val_loss: 0.1417 - learning_rate: 2.5000e-04\n",
      "Epoch 16: early stopping\n",
      "Restoring model weights from the end of the best epoch: 11.\n"
     ]
    }
   ],
   "source": [
    "for batch_size in [16, 64]:\n",
    "    print(f\"\\nTraining Model 11 with batch size = {batch_size}\")\n",
    "    train_ds, val_ds, test_ds = load_datasets(batch_size)\n",
    "    \n",
    "    model11 = build_medium_cnn_leakyrelu()\n",
    "    model11.compile(\n",
    "        optimizer=tf.keras.optimizers.Adam(learning_rate=1e-3),\n",
    "        loss=tf.keras.losses.SparseCategoricalCrossentropy(),\n",
    "        metrics=['accuracy']\n",
    "    )\n",
    "    \n",
    "    history11 = model11.fit(\n",
    "        train_ds,\n",
    "        validation_data=val_ds,\n",
    "        epochs=50,\n",
    "        callbacks=callbacks\n",
    "    )"
   ]
  },
  {
   "cell_type": "markdown",
   "id": "d37942f9",
   "metadata": {},
   "source": [
    "**Load best model**"
   ]
  },
  {
   "cell_type": "code",
   "execution_count": 6,
   "id": "0d5ba049",
   "metadata": {},
   "outputs": [
    {
     "name": "stderr",
     "output_type": "stream",
     "text": [
      "WARNING:absl:Compiled the loaded model, but the compiled metrics have yet to be built. `model.compile_metrics` will be empty until you train or evaluate the model.\n"
     ]
    }
   ],
   "source": [
    "best_model11 = tf.keras.models.load_model('models/model11_best.h5')"
   ]
  },
  {
   "cell_type": "markdown",
   "id": "d319533e",
   "metadata": {},
   "source": [
    "**Evaluate**"
   ]
  },
  {
   "cell_type": "code",
   "execution_count": null,
   "id": "9a680d27",
   "metadata": {},
   "outputs": [
    {
     "name": "stdout",
     "output_type": "stream",
     "text": [
      "\u001b[1m21/21\u001b[0m \u001b[32m━━━━━━━━━━━━━━━━━━━━\u001b[0m\u001b[37m\u001b[0m \u001b[1m2s\u001b[0m 91ms/step - accuracy: 0.9573 - loss: 0.1746\n",
      "Test accuracy: 0.9573\n",
      "Test loss: 0.1746\n",
      "Best epoch: 11\n",
      "Training accuracy at best epoch: 0.9932\n",
      "Training loss at best epoch: 0.0240\n",
      "Validation accuracy at best epoch: 0.9644\n",
      "Validation loss at best epoch: 0.1316\n"
     ]
    }
   ],
   "source": [
    "# Evaluate on test set\n",
    "test_loss, test_acc = best_model11.evaluate(test_ds)\n",
    "print(f\"Test accuracy: {test_acc:.4f}\")\n",
    "print(f\"Test loss: {test_loss:.4f}\")\n",
    "\n",
    "# Get final training & validation metrics\n",
    "final_train_acc = history11.history['accuracy'][-1]\n",
    "final_train_loss = history11.history['loss'][-1]\n",
    "final_val_acc   = history11.history['val_accuracy'][-1]\n",
    "final_val_loss  = history11.history['val_loss'][-1]\n",
    "\n",
    "print(f\"Final training accuracy: {final_train_acc:.4f}\")\n",
    "print(f\"Final training loss: {final_train_loss:.4f}\")\n",
    "print(f\"Final validation accuracy: {final_val_acc:.4f}\")\n",
    "print(f\"Final validation loss: {final_val_loss:.4f}\")\n"
   ]
  },
  {
   "cell_type": "markdown",
   "id": "72ad464a",
   "metadata": {},
   "source": [
    "**Loss curve plotting**"
   ]
  },
  {
   "cell_type": "code",
   "execution_count": 1,
   "id": "8fd30933",
   "metadata": {},
   "outputs": [
    {
     "ename": "NameError",
     "evalue": "name 'history11' is not defined",
     "output_type": "error",
     "traceback": [
      "\u001b[31m---------------------------------------------------------------------------\u001b[39m",
      "\u001b[31mNameError\u001b[39m                                 Traceback (most recent call last)",
      "\u001b[36mCell\u001b[39m\u001b[36m \u001b[39m\u001b[32mIn[1]\u001b[39m\u001b[32m, line 4\u001b[39m\n\u001b[32m      1\u001b[39m \u001b[38;5;28;01mfrom\u001b[39;00m\u001b[38;5;250m \u001b[39m\u001b[34;01mplot\u001b[39;00m\u001b[38;5;250m \u001b[39m\u001b[38;5;28;01mimport\u001b[39;00m plot_training_curves\n\u001b[32m      3\u001b[39m \u001b[38;5;66;03m# Call the function for Model 11\u001b[39;00m\n\u001b[32m----> \u001b[39m\u001b[32m4\u001b[39m plot_training_curves(\u001b[43mhistory11\u001b[49m, model_name=\u001b[33m\"\u001b[39m\u001b[33m(Medium CNN + LeakyReLU + Adam) Varied batch size\u001b[39m\u001b[33m\"\u001b[39m)\n",
      "\u001b[31mNameError\u001b[39m: name 'history11' is not defined"
     ]
    }
   ],
   "source": [
    "from plot import plot_training_curves\n",
    "\n",
    "# Call the function for Model 11\n",
    "plot_training_curves(history11, model_name=\"(Medium CNN + LeakyReLU + Adam) Varied batch size\")\n"
   ]
  },
  {
   "cell_type": "code",
   "execution_count": 5,
   "id": "5fbc1d47",
   "metadata": {},
   "outputs": [
    {
     "name": "stdout",
     "output_type": "stream",
     "text": [
      "Found 5712 files belonging to 4 classes.\n",
      "Found 1311 files belonging to 4 classes.\n"
     ]
    },
    {
     "name": "stderr",
     "output_type": "stream",
     "text": [
      "WARNING:absl:Compiled the loaded model, but the compiled metrics have yet to be built. `model.compile_metrics` will be empty until you train or evaluate the model.\n"
     ]
    },
    {
     "data": {
      "image/png": "[encoded data removed]",
      "text/plain": [
       "<Figure size 800x600 with 2 Axes>"
      ]
     },
     "metadata": {},
     "output_type": "display_data"
    },
    {
     "name": "stdout",
     "output_type": "stream",
     "text": [
      "\n",
      "Classification Report:\n",
      "\n",
      "              precision    recall  f1-score   support\n",
      "\n",
      "      glioma       0.97      0.92      0.94       300\n",
      "  meningioma       0.92      0.90      0.91       306\n",
      "     notumor       0.97      1.00      0.98       405\n",
      "   pituitary       0.97      0.99      0.98       300\n",
      "\n",
      "    accuracy                           0.96      1311\n",
      "   macro avg       0.96      0.95      0.95      1311\n",
      "weighted avg       0.96      0.96      0.96      1311\n",
      "\n"
     ]
    }
   ],
   "source": [
    "from plot_utils import (\n",
    "    plot_training_curves,\n",
    "    evaluate_model_with_confusion,\n",
    "    plot_confusion_matrix_from_dataset\n",
    ")\n",
    "# Load datasets with batch size 16 (or whatever you used during training)\n",
    "train_ds, val_ds, test_ds = load_datasets(batch_size=16)\n",
    "\n",
    "class_names = ['glioma', 'meningioma', 'notumor', 'pituitary']\n",
    "\n",
    "# Confusion matrix with in-memory model\n",
    "# evaluate_model_with_confusion(model19, test_ds, title=\"Confusion Matrix (Test)\")\n",
    "\n",
    "# Confusion matrix from saved model\n",
    "plot_confusion_matrix_from_dataset(\"models/model11_best.h5\", test_ds, class_names)\n"
   ]
  }
 ],
 "metadata": {
  "kernelspec": {
   "display_name": "Python 3",
   "language": "python",
   "name": "python3"
  },
  "language_info": {
   "codemirror_mode": {
    "name": "ipython",
    "version": 3
   },
   "file_extension": ".py",
   "mimetype": "text/x-python",
   "name": "python",
   "nbconvert_exporter": "python",
   "pygments_lexer": "ipython3",
   "version": "3.11.9"
  }
 },
 "nbformat": 4,
 "nbformat_minor": 5
}
